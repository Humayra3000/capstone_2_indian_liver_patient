{
 "cells": [
  {
   "cell_type": "code",
   "execution_count": 38,
   "id": "2dff9d54-ef9f-46b8-ba32-4dc0dad3bbe5",
   "metadata": {},
   "outputs": [
    {
     "name": "stdout",
     "output_type": "stream",
     "text": [
      "   Age  Total_Bilirubin  Direct_Bilirubin  Alkaline_Phosphotase  \\\n",
      "0   65              0.7               0.1                   187   \n",
      "1   62             10.9               5.5                   699   \n",
      "2   62              7.3               4.1                   490   \n",
      "3   58              1.0               0.4                   182   \n",
      "4   72              3.9               2.0                   195   \n",
      "\n",
      "   Alamine_Aminotransferase  Aspartate_Aminotransferase  Total_Protiens  \\\n",
      "0                        16                          18             6.8   \n",
      "1                        64                         100             7.5   \n",
      "2                        60                          68             7.0   \n",
      "3                        14                          20             6.8   \n",
      "4                        27                          59             7.3   \n",
      "\n",
      "   Albumin  Albumin_and_Globulin_Ratio  Gender_Male  \n",
      "0      3.3                        0.90        False  \n",
      "1      3.2                        0.74         True  \n",
      "2      3.3                        0.89         True  \n",
      "3      3.4                        1.00         True  \n",
      "4      2.4                        0.40         True  \n"
     ]
    }
   ],
   "source": [
    "import pandas as pd\n",
    "df=pd.read_csv('indian_liver_patient.csv')\n",
    "\n",
    "# Create dummy or indicator features for categorical variables\n",
    "df_dummies = pd.get_dummies(df, columns=['Gender'], drop_first=True)\n",
    "#dropping target column\n",
    "df_dummies = df_dummies.drop(columns=['Dataset'])\n",
    "\n",
    "\n",
    "# Check the new DataFrame with dummy variables\n",
    "print(df_dummies.head())\n"
   ]
  },
  {
   "cell_type": "code",
   "execution_count": 32,
   "id": "92ab7a4b-b878-4859-b8a9-d80207ed6aa6",
   "metadata": {},
   "outputs": [],
   "source": [
    "# Resetting the index and setting the new index starting from 1\n",
    "df_dummies.index = df_dummies.index + 1"
   ]
  },
  {
   "cell_type": "code",
   "execution_count": 34,
   "id": "40d45c64-51f2-40c8-bdc6-161fb4112a51",
   "metadata": {},
   "outputs": [
    {
     "name": "stdout",
     "output_type": "stream",
     "text": [
      "   Age  Total_Bilirubin  Direct_Bilirubin  Alkaline_Phosphotase  \\\n",
      "1   65              0.7               0.1                   187   \n",
      "2   62             10.9               5.5                   699   \n",
      "3   62              7.3               4.1                   490   \n",
      "4   58              1.0               0.4                   182   \n",
      "5   72              3.9               2.0                   195   \n",
      "\n",
      "   Alamine_Aminotransferase  Aspartate_Aminotransferase  Total_Protiens  \\\n",
      "1                        16                          18             6.8   \n",
      "2                        64                         100             7.5   \n",
      "3                        60                          68             7.0   \n",
      "4                        14                          20             6.8   \n",
      "5                        27                          59             7.3   \n",
      "\n",
      "   Albumin  Albumin_and_Globulin_Ratio  Gender_Male  \n",
      "1      3.3                        0.90        False  \n",
      "2      3.2                        0.74         True  \n",
      "3      3.3                        0.89         True  \n",
      "4      3.4                        1.00         True  \n",
      "5      2.4                        0.40         True  \n"
     ]
    }
   ],
   "source": [
    "print(df_dummies.head())"
   ]
  },
  {
   "cell_type": "code",
   "execution_count": 40,
   "id": "f62e09fd-ac69-4fee-85ff-17bde95e325c",
   "metadata": {},
   "outputs": [
    {
     "name": "stdout",
     "output_type": "stream",
     "text": [
      "   Age  Total_Bilirubin  Direct_Bilirubin  Alkaline_Phosphotase  \\\n",
      "0   65              0.7               0.1                   187   \n",
      "1   62             10.9               5.5                   699   \n",
      "2   62              7.3               4.1                   490   \n",
      "3   58              1.0               0.4                   182   \n",
      "4   72              3.9               2.0                   195   \n",
      "\n",
      "   Alamine_Aminotransferase  Aspartate_Aminotransferase  Total_Protiens  \\\n",
      "0                        16                          18             6.8   \n",
      "1                        64                         100             7.5   \n",
      "2                        60                          68             7.0   \n",
      "3                        14                          20             6.8   \n",
      "4                        27                          59             7.3   \n",
      "\n",
      "   Albumin  Albumin_and_Globulin_Ratio  Gender_Male  \n",
      "0      3.3                        0.90        False  \n",
      "1      3.2                        0.74         True  \n",
      "2      3.3                        0.89         True  \n",
      "3      3.4                        1.00         True  \n",
      "4      2.4                        0.40         True  \n"
     ]
    }
   ],
   "source": [
    "from sklearn.preprocessing import StandardScaler\n",
    "from sklearn.preprocessing import MinMaxScaler  \n",
    "\n",
    "# Select numeric columns for scaling\n",
    "numeric_cols = df_dummies.select_dtypes(include=['float64', 'int64']).columns\n",
    "\n",
    "# Initialize the MinMaxScaler to scale features between 0 and 1\n",
    "scaler = MinMaxScaler(feature_range=(0, 1))\n",
    "\n",
    "# Fit and transform the numeric columns to scale them between 0 and 1\n",
    "df[numeric_cols] = scaler.fit_transform(df[numeric_cols])\n",
    "\n",
    "# Check the first few rows of the transformed data\n",
    "print(df_dummies.head())"
   ]
  },
  {
   "cell_type": "code",
   "execution_count": 42,
   "id": "d29b302a-a7df-46d6-a48e-67610e4d402f",
   "metadata": {},
   "outputs": [
    {
     "name": "stdout",
     "output_type": "stream",
     "text": [
      "Training set features shape: (466, 10)\n",
      "Testing set features shape: (117, 10)\n"
     ]
    }
   ],
   "source": [
    "#Split your data into testing and training datasets\n",
    "from sklearn.model_selection import train_test_split\n",
    "\n",
    "#  target variable is 'Dataset' and the rest are features\n",
    "X = df.drop(columns=['Dataset'])  \n",
    "y = df['Dataset'] \n",
    "\n",
    "# Split the data into training (80%) and testing (20%) sets\n",
    "X_train, X_test, y_train, y_test = train_test_split(X, y, test_size=0.2, random_state=42)\n",
    "\n",
    "# Check the shape of the splits\n",
    "print(f'Training set features shape: {X_train.shape}')\n",
    "print(f'Testing set features shape: {X_test.shape}')"
   ]
  },
  {
   "cell_type": "code",
   "execution_count": null,
   "id": "4026d91d-dd28-42e9-b4e2-91f9eed8a193",
   "metadata": {},
   "outputs": [],
   "source": []
  }
 ],
 "metadata": {
  "kernelspec": {
   "display_name": "Python 3 (ipykernel)",
   "language": "python",
   "name": "python3"
  },
  "language_info": {
   "codemirror_mode": {
    "name": "ipython",
    "version": 3
   },
   "file_extension": ".py",
   "mimetype": "text/x-python",
   "name": "python",
   "nbconvert_exporter": "python",
   "pygments_lexer": "ipython3",
   "version": "3.12.7"
  }
 },
 "nbformat": 4,
 "nbformat_minor": 5
}
