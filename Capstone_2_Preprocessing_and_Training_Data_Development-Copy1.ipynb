{
 "cells": [
  {
   "cell_type": "code",
   "execution_count": 10,
   "id": "9c87a4c5-8b03-4805-aec9-971c018cf310",
   "metadata": {},
   "outputs": [],
   "source": [
    "import pandas as pd\n",
    "from sklearn.preprocessing import StandardScaler, MinMaxScaler\n",
    "from sklearn.model_selection import train_test_split"
   ]
  },
  {
   "cell_type": "code",
   "execution_count": 11,
   "id": "a47e549b-2480-46d9-b8d6-633119209587",
   "metadata": {},
   "outputs": [],
   "source": [
    "df=pd.read_csv('indian_liver_patient.csv')"
   ]
  },
  {
   "cell_type": "code",
   "execution_count": 12,
   "id": "2dff9d54-ef9f-46b8-ba32-4dc0dad3bbe5",
   "metadata": {},
   "outputs": [
    {
     "name": "stdout",
     "output_type": "stream",
     "text": [
      "   Age  Total_Bilirubin  Direct_Bilirubin  Alkaline_Phosphotase  \\\n",
      "0   65              0.7               0.1                   187   \n",
      "1   62             10.9               5.5                   699   \n",
      "2   62              7.3               4.1                   490   \n",
      "3   58              1.0               0.4                   182   \n",
      "4   72              3.9               2.0                   195   \n",
      "\n",
      "   Alamine_Aminotransferase  Aspartate_Aminotransferase  Total_Protiens  \\\n",
      "0                        16                          18             6.8   \n",
      "1                        64                         100             7.5   \n",
      "2                        60                          68             7.0   \n",
      "3                        14                          20             6.8   \n",
      "4                        27                          59             7.3   \n",
      "\n",
      "   Albumin  Albumin_and_Globulin_Ratio  Gender_Male  \n",
      "0      3.3                        0.90        False  \n",
      "1      3.2                        0.74         True  \n",
      "2      3.3                        0.89         True  \n",
      "3      3.4                        1.00         True  \n",
      "4      2.4                        0.40         True  \n"
     ]
    }
   ],
   "source": [
    "# Create dummy or indicator features for categorical variables\n",
    "df_dummies = pd.get_dummies(df, columns=['Gender'], drop_first=True)\n",
    "\n",
    "# Drop the target column 'Dataset'\n",
    "df_dummies = df_dummies.drop(columns=['Dataset'])\n",
    "\n",
    "# Display the first few rows of the dataframe with dummy variables\n",
    "print(df_dummies.head())"
   ]
  },
  {
   "cell_type": "code",
   "execution_count": 13,
   "id": "a2827dba-061b-48b3-a47f-857a5288c228",
   "metadata": {},
   "outputs": [
    {
     "name": "stdout",
     "output_type": "stream",
     "text": [
      "        Age  Total_Bilirubin  Direct_Bilirubin  Alkaline_Phosphotase  \\\n",
      "0  0.709302         0.004021          0.000000              0.060576   \n",
      "1  0.674419         0.140751          0.275510              0.310699   \n",
      "2  0.674419         0.092493          0.204082              0.208598   \n",
      "3  0.627907         0.008043          0.015306              0.058134   \n",
      "4  0.790698         0.046917          0.096939              0.064485   \n",
      "\n",
      "   Alamine_Aminotransferase  Aspartate_Aminotransferase  Total_Protiens  \\\n",
      "0                  0.003015                    0.001626        0.594203   \n",
      "1                  0.027136                    0.018296        0.695652   \n",
      "2                  0.025126                    0.011791        0.623188   \n",
      "3                  0.002010                    0.002033        0.594203   \n",
      "4                  0.008543                    0.009961        0.666667   \n",
      "\n",
      "    Albumin  Albumin_and_Globulin_Ratio  Gender_Male  \n",
      "0  0.521739                       0.240        False  \n",
      "1  0.500000                       0.176         True  \n",
      "2  0.521739                       0.236         True  \n",
      "3  0.543478                       0.280         True  \n",
      "4  0.326087                       0.040         True  \n"
     ]
    }
   ],
   "source": [
    "# Select numeric columns for scaling\n",
    "numeric_cols = df_dummies.select_dtypes(include=['float64', 'int64']).columns\n",
    "\n",
    "# Initialize the MinMaxScaler to scale features between 0 and 1\n",
    "scaler = MinMaxScaler(feature_range=(0, 1))\n",
    "\n",
    "# Fit and transform the numeric columns to scale them between 0 and 1\n",
    "df_dummies[numeric_cols] = scaler.fit_transform(df_dummies[numeric_cols])\n",
    "\n",
    "# Check the first few rows of the transformed data\n",
    "print(df_dummies.head())"
   ]
  },
  {
   "cell_type": "code",
   "execution_count": 14,
   "id": "f62e09fd-ac69-4fee-85ff-17bde95e325c",
   "metadata": {},
   "outputs": [
    {
     "name": "stdout",
     "output_type": "stream",
     "text": [
      "Training set features shape: (466, 10)\n",
      "Testing set features shape: (117, 10)\n",
      "          Age  Total_Bilirubin  Direct_Bilirubin  Alkaline_Phosphotase  \\\n",
      "77   0.744186         0.002681          0.000000              0.760625   \n",
      "581  0.313953         0.012064          0.020408              0.059111   \n",
      "210  0.279070         0.005362          0.010204              0.062042   \n",
      "192  0.651163         0.025469          0.025510              0.102101   \n",
      "449  0.511628         0.006702          0.005102              0.053737   \n",
      "..        ...              ...               ...                   ...   \n",
      "71   0.825581         0.005362          0.005102              0.061065   \n",
      "106  0.372093         0.065684          0.112245              0.040059   \n",
      "270  0.383721         0.004021          0.005102              0.084025   \n",
      "435  0.151163         0.001340          0.000000              0.069858   \n",
      "102  0.151163         0.006702          0.005102              0.078652   \n",
      "\n",
      "     Alamine_Aminotransferase  Aspartate_Aminotransferase  Total_Protiens  \\\n",
      "77                   0.042714                    0.023785        0.275362   \n",
      "581                  0.009548                    0.004472        0.594203   \n",
      "210                  0.005025                    0.000813        0.202899   \n",
      "192                  0.034673                    0.008335        0.565217   \n",
      "449                  0.008040                    0.003456        0.507246   \n",
      "..                        ...                         ...             ...   \n",
      "71                   0.005025                    0.003863        0.246377   \n",
      "106                  0.011055                    0.016670        0.347826   \n",
      "270                  0.043216                    0.008945        0.985507   \n",
      "435                  0.009045                    0.002236        0.637681   \n",
      "102                  0.013065                    0.007115        0.608696   \n",
      "\n",
      "      Albumin  Albumin_and_Globulin_Ratio  Gender_Male  \n",
      "77   0.260870                        0.20        False  \n",
      "581  0.543478                        0.28         True  \n",
      "210  0.326087                        0.44         True  \n",
      "192  0.565217                        0.32         True  \n",
      "449  0.478261                        0.28        False  \n",
      "..        ...                         ...          ...  \n",
      "71   0.195652                        0.12        False  \n",
      "106  0.369565                        0.28         True  \n",
      "270  0.869565                        0.28         True  \n",
      "435  0.782609                        0.56        False  \n",
      "102  0.717391                        0.50         True  \n",
      "\n",
      "[466 rows x 10 columns]\n",
      "77     1\n",
      "581    1\n",
      "210    1\n",
      "192    1\n",
      "449    1\n",
      "      ..\n",
      "71     1\n",
      "106    2\n",
      "270    1\n",
      "435    2\n",
      "102    1\n",
      "Name: Dataset, Length: 466, dtype: int64\n"
     ]
    }
   ],
   "source": [
    "# Split your data into testing and training datasets\n",
    "#  target variable is 'Dataset' and the rest are features\n",
    "X = df_dummies\n",
    "y = df['Dataset']\n",
    "\n",
    "# Split the data into training (80%) and testing (20%) sets\n",
    "X_train, X_test, y_train, y_test = train_test_split(X, y, test_size=0.2, random_state=42)\n",
    "\n",
    "# Check the shape of the splits\n",
    "print(f'Training set features shape: {X_train.shape}')\n",
    "print(f'Testing set features shape: {X_test.shape}')\n",
    "\n",
    "# Display training set features\n",
    "print(X_train)\n",
    "\n",
    "# Display training set target\n",
    "print(y_train)"
   ]
  }
 ],
 "metadata": {
  "kernelspec": {
   "display_name": "Python 3 (ipykernel)",
   "language": "python",
   "name": "python3"
  },
  "language_info": {
   "codemirror_mode": {
    "name": "ipython",
    "version": 3
   },
   "file_extension": ".py",
   "mimetype": "text/x-python",
   "name": "python",
   "nbconvert_exporter": "python",
   "pygments_lexer": "ipython3",
   "version": "3.12.7"
  }
 },
 "nbformat": 4,
 "nbformat_minor": 5
}
