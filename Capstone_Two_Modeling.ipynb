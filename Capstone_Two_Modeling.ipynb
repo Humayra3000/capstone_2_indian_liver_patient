{
 "cells": [
  {
   "cell_type": "code",
   "execution_count": 74,
   "id": "c3a05721-787a-43cb-b74e-0fae59e3bb54",
   "metadata": {},
   "outputs": [],
   "source": [
    "import pandas as pd\n",
    "import matplotlib.pyplot as plt\n",
    "from sklearn.preprocessing import StandardScaler, MinMaxScaler\n",
    "from sklearn.model_selection import train_test_split\n",
    "from sklearn.ensemble import RandomForestClassifier\n",
    "from sklearn.metrics import accuracy_score, classification_report, confusion_matrix, ConfusionMatrixDisplay, recall_score, precision_score\n",
    "from sklearn.impute import SimpleImputer\n",
    "from sklearn.model_selection import GridSearchCV\n",
    "from sklearn.linear_model import LogisticRegression\n",
    "from sklearn.pipeline import make_pipeline\n",
    "import warnings\n",
    "warnings.filterwarnings('ignore')\n",
    "from sklearn.neighbors import KNeighborsClassifier\n",
    "from sklearn.model_selection import train_test_split, cross_val_score\n",
    "from sklearn.metrics import f1_score"
   ]
  },
  {
   "cell_type": "code",
   "execution_count": 75,
   "id": "fc4db218-7337-4213-9b40-8ef8d6515217",
   "metadata": {},
   "outputs": [],
   "source": [
    "df=pd.read_csv('indian_liver_patient.csv')"
   ]
  },
  {
   "cell_type": "code",
   "execution_count": 76,
   "id": "90974155-fb31-4fd9-9087-29f7a20d2a38",
   "metadata": {},
   "outputs": [
    {
     "name": "stdout",
     "output_type": "stream",
     "text": [
      "NaN values before imputation:\n",
      "Age                           0\n",
      "Total_Bilirubin               0\n",
      "Direct_Bilirubin              0\n",
      "Alkaline_Phosphotase          0\n",
      "Alamine_Aminotransferase      0\n",
      "Aspartate_Aminotransferase    0\n",
      "Total_Protiens                0\n",
      "Albumin                       0\n",
      "Albumin_and_Globulin_Ratio    4\n",
      "Gender_Male                   0\n",
      "dtype: int64\n",
      "NaN values after imputation:\n",
      "Age                           0\n",
      "Total_Bilirubin               0\n",
      "Direct_Bilirubin              0\n",
      "Alkaline_Phosphotase          0\n",
      "Alamine_Aminotransferase      0\n",
      "Aspartate_Aminotransferase    0\n",
      "Total_Protiens                0\n",
      "Albumin                       0\n",
      "Albumin_and_Globulin_Ratio    0\n",
      "Gender_Male                   0\n",
      "dtype: int64\n",
      "        Age  Total_Bilirubin  Direct_Bilirubin  Alkaline_Phosphotase  \\\n",
      "0  0.709302         0.004021          0.000000              0.060576   \n",
      "1  0.674419         0.140751          0.275510              0.310699   \n",
      "2  0.674419         0.092493          0.204082              0.208598   \n",
      "3  0.627907         0.008043          0.015306              0.058134   \n",
      "4  0.790698         0.046917          0.096939              0.064485   \n",
      "\n",
      "   Alamine_Aminotransferase  Aspartate_Aminotransferase  Total_Protiens  \\\n",
      "0                  0.003015                    0.001626        0.594203   \n",
      "1                  0.027136                    0.018296        0.695652   \n",
      "2                  0.025126                    0.011791        0.623188   \n",
      "3                  0.002010                    0.002033        0.594203   \n",
      "4                  0.008543                    0.009961        0.666667   \n",
      "\n",
      "    Albumin  Albumin_and_Globulin_Ratio  Dataset  Gender_Male  \n",
      "0  0.521739                       0.240      0.0        False  \n",
      "1  0.500000                       0.176      0.0         True  \n",
      "2  0.521739                       0.236      0.0         True  \n",
      "3  0.543478                       0.280      0.0         True  \n",
      "4  0.326087                       0.040      0.0         True  \n"
     ]
    }
   ],
   "source": [
    "# Create dummy or indicator features for categorical variables\n",
    "df_dummies = pd.get_dummies(df, columns=['Gender'], drop_first=True)\n",
    "\n",
    "# Select numeric columns for scaling\n",
    "numeric_cols = df_dummies.select_dtypes(include=['float64', 'int64']).columns\n",
    "\n",
    "# Initialize the MinMaxScaler to scale features between 0 and 1\n",
    "scaler = MinMaxScaler(feature_range=(0, 1))\n",
    "\n",
    "# Fit and transform the numeric columns to scale them between 0 and 1\n",
    "df_dummies[numeric_cols] = scaler.fit_transform(df_dummies[numeric_cols])\n",
    "\n",
    "# Define features (X) and target (y)\n",
    "X = df_dummies.drop(columns=['Dataset'])\n",
    "y = df['Dataset']\n",
    "\n",
    "# Check for NaN values before imputation\n",
    "print(\"NaN values before imputation:\")\n",
    "print(X.isna().sum())\n",
    "\n",
    "# Handle missing values by using SimpleImputer\n",
    "imputer = SimpleImputer(strategy='mean')\n",
    "X = imputer.fit_transform(X)\n",
    "\n",
    "# Convert the imputed array back to a DataFrame\n",
    "X = pd.DataFrame(X, columns=df_dummies.drop(columns=['Dataset']).columns)\n",
    "\n",
    "# Check for NaN values after imputation\n",
    "print(\"NaN values after imputation:\")\n",
    "print(X.isna().sum())\n",
    "\n",
    "# Split the data into training (80%) and testing (20%) sets\n",
    "X_train, X_test, y_train, y_test = train_test_split(X, y, test_size=0.2, stratify=y, random_state=42)\n",
    "\n",
    "# Check the first few rows of the transformed data\n",
    "print(df_dummies.head())"
   ]
  },
  {
   "cell_type": "code",
   "execution_count": 77,
   "id": "61879eb9-a2e7-4e73-b637-1becaa3ec978",
   "metadata": {},
   "outputs": [
    {
     "data": {
      "text/plain": [
       "Dataset\n",
       "1    416\n",
       "2    167\n",
       "Name: count, dtype: int64"
      ]
     },
     "execution_count": 77,
     "metadata": {},
     "output_type": "execute_result"
    }
   ],
   "source": [
    "y.value_counts()"
   ]
  },
  {
   "cell_type": "markdown",
   "id": "10b5cb4c-53b7-4ad4-beed-40760af8a695",
   "metadata": {},
   "source": [
    "**Random Forest Model**"
   ]
  },
  {
   "cell_type": "code",
   "execution_count": 79,
   "id": "a2296c1a-da9c-43bb-bd1e-e3835707334c",
   "metadata": {},
   "outputs": [
    {
     "name": "stdout",
     "output_type": "stream",
     "text": [
      "Best hyperparameters are {'max_depth': 3, 'max_features': 40, 'min_samples_leaf': 1, 'n_estimators': 200}\n",
      "Best score is: 0.7231596360628618\n"
     ]
    }
   ],
   "source": [
    "rf_grid = RandomForestClassifier()\n",
    "gr_space = {\n",
    "    'max_depth': [3,5,7,10],\n",
    "    'n_estimators': [100, 200, 300, 400, 500],\n",
    "    'max_features': [10, 20, 30 , 40],\n",
    "    'min_samples_leaf': [1, 2, 4]\n",
    "}\n",
    "\n",
    "grid = GridSearchCV(rf_grid, gr_space, cv = 3, scoring='accuracy')\n",
    "model_grid = grid.fit(X_train, y_train)\n",
    "\n",
    "print('Best hyperparameters are '+str(model_grid.best_params_))\n",
    "print('Best score is: ' + str(model_grid.best_score_))"
   ]
  },
  {
   "cell_type": "code",
   "execution_count": 107,
   "id": "2370eaf9-2d09-4214-89da-37f72a6919b5",
   "metadata": {},
   "outputs": [],
   "source": [
    "# Initialize the RandomForestClassifier\n",
    "rf_model = RandomForestClassifier(n_estimators=200, max_depth= 3, max_features=40, min_samples_leaf=1)\n",
    "\n",
    "# Fit the model to the training data\n",
    "rf_model.fit(X_train, y_train)\n",
    "\n",
    "# Make predictions on the test data\n",
    "y_pred = rf_model.predict(X_test)"
   ]
  },
  {
   "cell_type": "code",
   "execution_count": 109,
   "id": "7486f385-403b-41ae-9ec9-b81faa0ebba6",
   "metadata": {},
   "outputs": [
    {
     "name": "stdout",
     "output_type": "stream",
     "text": [
      "Accuracy: 0.67\n",
      "Classification Report:\n",
      "              precision    recall  f1-score   support\n",
      "\n",
      "           1       0.71      0.89      0.79        83\n",
      "           2       0.31      0.12      0.17        34\n",
      "\n",
      "    accuracy                           0.67       117\n",
      "   macro avg       0.51      0.50      0.48       117\n",
      "weighted avg       0.59      0.67      0.61       117\n",
      "\n",
      "Confusion Matrix:\n",
      "[[74  9]\n",
      " [30  4]]\n"
     ]
    }
   ],
   "source": [
    "# Calculate accuracy\n",
    "accuracy = accuracy_score(y_test, y_pred)\n",
    "print(f'Accuracy: {accuracy:.2f}')\n",
    "\n",
    "# Print classification report\n",
    "print('Classification Report:')\n",
    "print(classification_report(y_test, y_pred))\n",
    "\n",
    "# Print confusion matrix\n",
    "print('Confusion Matrix:')\n",
    "print(confusion_matrix(y_test, y_pred))"
   ]
  },
  {
   "cell_type": "code",
   "execution_count": 111,
   "id": "f9ca82b8-2cee-4641-a64e-46e3cb39cdd6",
   "metadata": {},
   "outputs": [
    {
     "name": "stdout",
     "output_type": "stream",
     "text": [
      "Recall score: 0.891566265060241\n",
      "Precision score: 0.7115384615384616\n",
      "0.6109151591003906\n"
     ]
    }
   ],
   "source": [
    "print(\"Recall score:\", recall_score(y_test, y_pred))\n",
    "print(\"Precision score:\", precision_score(y_test, y_pred))\n",
    "\n",
    "f1_rf=f1_score(y_test, y_pred,average='weighted')\n",
    "print(f1_rf)"
   ]
  },
  {
   "cell_type": "markdown",
   "id": "0d3f5cab-f62b-48a3-91b3-0a9cbbc852a2",
   "metadata": {},
   "source": [
    "**Logistic Regression Model**"
   ]
  },
  {
   "cell_type": "code",
   "execution_count": 114,
   "id": "9dbf0ece-c111-4db4-9bc1-a40bfc4f441d",
   "metadata": {},
   "outputs": [
    {
     "name": "stdout",
     "output_type": "stream",
     "text": [
      "Best hyperparameters are {'C': 1, 'penalty': 'l2'}\n",
      "Best score is: 0.7146126275158533\n"
     ]
    }
   ],
   "source": [
    "# Initialize the LogisticRegression model\n",
    "log_reg_model = LogisticRegression()\n",
    "\n",
    "# Create a parameter grid\n",
    "param_grid2 = {\n",
    "    'C': [1, 10, 100],\n",
    "    'penalty': ['l2']\n",
    "}\n",
    "\n",
    "\n",
    "grid2 = GridSearchCV(log_reg_model, param_grid2, cv = 3, scoring='accuracy')\n",
    "model_grid2 = grid2.fit(X_train, y_train)\n",
    "\n",
    "print('Best hyperparameters are '+str(model_grid2.best_params_))\n",
    "print('Best score is: ' + str(model_grid2.best_score_))"
   ]
  },
  {
   "cell_type": "code",
   "execution_count": 116,
   "id": "4ab9eab8-ea0a-4c7e-9daa-a8a34894273a",
   "metadata": {},
   "outputs": [
    {
     "name": "stdout",
     "output_type": "stream",
     "text": [
      "Accuracy: 0.73\n",
      "Classification Report:\n",
      "              precision    recall  f1-score   support\n",
      "\n",
      "           1       0.72      1.00      0.84        83\n",
      "           2       1.00      0.06      0.11        34\n",
      "\n",
      "    accuracy                           0.73       117\n",
      "   macro avg       0.86      0.53      0.47       117\n",
      "weighted avg       0.80      0.73      0.63       117\n",
      "\n",
      "Confusion Matrix:\n",
      "[[83  0]\n",
      " [32  2]]\n",
      "0.627039627039627\n"
     ]
    }
   ],
   "source": [
    "log_reg_model = LogisticRegression(C= 1, penalty= 'l2',random_state=14)\n",
    "\n",
    "# Fit the model to the training data\n",
    "log_reg_model.fit(X_train, y_train)\n",
    "\n",
    "# Make predictions on the test data\n",
    "y_pred_log_reg = log_reg_model.predict(X_test)\n",
    "\n",
    "# Calculate accuracy\n",
    "accuracy = accuracy_score(y_test, y_pred_log_reg)\n",
    "print(f'Accuracy: {accuracy:.2f}')\n",
    "\n",
    "# Print classification report\n",
    "print('Classification Report:')\n",
    "print(classification_report(y_test, y_pred_log_reg))\n",
    "\n",
    "# Print confusion matrix\n",
    "print('Confusion Matrix:')\n",
    "print(confusion_matrix(y_test, y_pred_log_reg))\n",
    "\n",
    "f1_log_reg=f1_score(y_test, y_pred_log_reg,average='weighted')\n",
    "print(f1_log_reg)"
   ]
  },
  {
   "cell_type": "markdown",
   "id": "44e34546-3877-4af8-9a69-99dfb39559ac",
   "metadata": {},
   "source": [
    "**KNN Model**"
   ]
  },
  {
   "cell_type": "code",
   "execution_count": 119,
   "id": "143d45de-c379-4361-87c6-f29abc530237",
   "metadata": {},
   "outputs": [
    {
     "name": "stdout",
     "output_type": "stream",
     "text": [
      "Best hyperparameters are {'n_neighbors': 50, 'weights': 'distance'}\n",
      "Best score is: 0.7188861317893576\n"
     ]
    }
   ],
   "source": [
    "# Initialize the LogisticRegression model\n",
    "knn_model = KNeighborsClassifier()\n",
    "\n",
    "# Create a parameter grid\n",
    "param_grid3 = {\n",
    "    'n_neighbors': [5, 10, 30, 50],\n",
    "    'weights':['uniform', 'distance']\n",
    "}\n",
    "\n",
    "\n",
    "grid3 = GridSearchCV(knn_model, param_grid3, cv = 3, scoring='accuracy')\n",
    "model_grid3 = grid3.fit(X_train, y_train)\n",
    "\n",
    "print('Best hyperparameters are '+str(model_grid3.best_params_))\n",
    "print('Best score is: ' + str(model_grid3.best_score_))"
   ]
  },
  {
   "cell_type": "code",
   "execution_count": 121,
   "id": "82126900-fe4b-46da-a8ec-e7c7e829bdc6",
   "metadata": {},
   "outputs": [
    {
     "name": "stdout",
     "output_type": "stream",
     "text": [
      "Accuracy: 0.73\n",
      "Classification Report:\n",
      "              precision    recall  f1-score   support\n",
      "\n",
      "           1       0.73      0.99      0.84        83\n",
      "           2       0.75      0.09      0.16        34\n",
      "\n",
      "    accuracy                           0.73       117\n",
      "   macro avg       0.74      0.54      0.50       117\n",
      "weighted avg       0.73      0.73      0.64       117\n",
      "\n",
      "Confusion Matrix:\n",
      "[[82  1]\n",
      " [31  3]]\n",
      "0.6394649627732334\n"
     ]
    }
   ],
   "source": [
    "knn_model = KNeighborsClassifier(n_neighbors= 50, weights= 'distance')\n",
    "\n",
    "# Fit the model to the training data\n",
    "knn_model.fit(X_train, y_train)\n",
    "\n",
    "# Make predictions on the test data\n",
    "y_pred_knn = knn_model.predict(X_test)\n",
    "\n",
    "# Calculate accuracy\n",
    "accuracy = accuracy_score(y_test, y_pred_knn)\n",
    "print(f'Accuracy: {accuracy:.2f}')\n",
    "\n",
    "# Print classification report\n",
    "print('Classification Report:')\n",
    "print(classification_report(y_test, y_pred_knn))\n",
    "\n",
    "# Print confusion matrix\n",
    "print('Confusion Matrix:')\n",
    "print(confusion_matrix(y_test, y_pred_knn))\n",
    "\n",
    "f1_knn=f1_score(y_test, y_pred_knn,average='weighted')\n",
    "print(f1_knn)"
   ]
  },
  {
   "cell_type": "code",
   "execution_count": 123,
   "id": "58e210be-bd40-46c9-a134-ca1884f21098",
   "metadata": {},
   "outputs": [
    {
     "name": "stdout",
     "output_type": "stream",
     "text": [
      "Logistic Regression Accuracy: 0.73\n",
      "Random Forest Accuracy: 0.62\n",
      "K-Nearest Neighbors Accuracy: 0.73\n"
     ]
    }
   ],
   "source": [
    "# Make predictions on the test data\n",
    "#y_pred_log_reg = log_reg_model.predict(X_test)\n",
    "#y_pred_rf = rf_model.predict(X_test)\n",
    "#y_pred_knn = knn_model.predict(X_test)\n",
    "\n",
    "# Calculate accuracy\n",
    "accuracy_log_reg = accuracy_score(y_test, y_pred_log_reg)\n",
    "accuracy_rf = accuracy_score(y_test, y_pred_rf)\n",
    "accuracy_knn = accuracy_score(y_test, y_pred_knn)\n",
    "\n",
    "# Print accuracy scores\n",
    "print(f'Logistic Regression Accuracy: {accuracy_log_reg:.2f}')\n",
    "print(f'Random Forest Accuracy: {accuracy_rf:.2f}')\n",
    "print(f'K-Nearest Neighbors Accuracy: {accuracy_knn:.2f}')"
   ]
  },
  {
   "cell_type": "code",
   "execution_count": 125,
   "id": "168bb13c-4c09-46c9-ab28-3eb18e5f541a",
   "metadata": {},
   "outputs": [
    {
     "data": {
      "image/png": "[encoded data removed]",
      "text/plain": [
       "<Figure size 1000x600 with 1 Axes>"
      ]
     },
     "metadata": {},
     "output_type": "display_data"
    }
   ],
   "source": [
    "# F1 scores for each model\n",
    "f1_scores = {\n",
    "    'Random Forest': f1_rf,\n",
    "    'Logistic Regression':f1_log_reg,\n",
    "    'KNN': f1_knn\n",
    "}\n",
    "\n",
    "# Plotting the F1 scores\n",
    "plt.figure(figsize=(10, 6))\n",
    "plt.bar(f1_scores.keys(), f1_scores.values(), color=['blue', 'purple', 'pink'])\n",
    "plt.xlabel('Model')\n",
    "plt.ylabel('F1 Score')\n",
    "plt.title('Comparison of F1 Scores for Different Models')\n",
    "plt.ylim(0, 1)\n",
    "plt.show()"
   ]
  },
  {
   "cell_type": "markdown",
   "id": "70aa2100-960c-4626-be01-e6e48d751f3d",
   "metadata": {},
   "source": [
    "**Based on the weighted F1 scores alone, the KNN model performed better than the Random Forest model and the Logistic Regression model.**"
   ]
  }
 ],
 "metadata": {
  "kernelspec": {
   "display_name": "Python 3 (ipykernel)",
   "language": "python",
   "name": "python3"
  },
  "language_info": {
   "codemirror_mode": {
    "name": "ipython",
    "version": 3
   },
   "file_extension": ".py",
   "mimetype": "text/x-python",
   "name": "python",
   "nbconvert_exporter": "python",
   "pygments_lexer": "ipython3",
   "version": "3.12.7"
  }
 },
 "nbformat": 4,
 "nbformat_minor": 5
}
