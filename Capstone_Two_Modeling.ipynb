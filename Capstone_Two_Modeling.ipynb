{
 "cells": [
  {
   "cell_type": "code",
   "execution_count": 91,
   "id": "a90a5b11-7241-4aed-bd83-5182374d5bc8",
   "metadata": {},
   "outputs": [],
   "source": [
    "import pandas as pd\n",
    "import matplotlib.pyplot as plt\n",
    "from sklearn.model_selection import train_test_split\n",
    "from sklearn.preprocessing import MinMaxScaler\n",
    "from sklearn.metrics import accuracy_score, confusion_matrix, classification_report, roc_auc_score, roc_curve\n",
    "from sklearn.ensemble import RandomForestClassifier\n",
    "from sklearn.metrics import confusion_matrix,ConfusionMatrixDisplay\n",
    "from sklearn.metrics import recall_score\n",
    "from sklearn.metrics import precision_score\n",
    "from sklearn.model_selection import GridSearchCV\n",
    "from sklearn.linear_model import LogisticRegression\n",
    "from sklearn.impute import SimpleImputer\n",
    "from sklearn.preprocessing import label_binarize"
   ]
  },
  {
   "cell_type": "code",
   "execution_count": 120,
   "id": "32e6dfed-0514-467b-9307-4dd7a89f87bb",
   "metadata": {},
   "outputs": [],
   "source": [
    "df=pd.read_csv('indian_liver_patient.csv')\n",
    "\n",
    "# Create dummy or indicator features for categorical variables\n",
    "df_dummies = pd.get_dummies(df, columns=['Gender'], drop_first=True)\n",
    "#dropping target column\n",
    "df_dummies = df_dummies.drop(columns=['Dataset'])\n",
    "\n",
    "# Select numeric columns for scaling\n",
    "numeric_cols = df_dummies.select_dtypes(include=['float64', 'int64']).columns\n",
    "\n",
    "# Initialize the MinMaxScaler to scale features between 0 and 1\n",
    "scaler = MinMaxScaler(feature_range=(0, 1))\n",
    "\n",
    "# Fit and transform the numeric columns to scale them between 0 and 1\n",
    "df_dummies[numeric_cols] = scaler.fit_transform(df_dummies[numeric_cols])\n",
    "\n",
    "#  target variable is 'Dataset' and the rest are features\n",
    "X = df_dummies \n",
    "y = df['Dataset'] \n",
    "\n",
    "# Split the dataset into training and test sets\n",
    "X_train, X_test, y_train, y_test = train_test_split(X, y, test_size=0.2, random_state=42)\n"
   ]
  },
  {
   "cell_type": "markdown",
   "id": "8b6d4248-1c12-447a-8372-20bbe3b078b3",
   "metadata": {},
   "source": [
    "**The process starts by splitting the data into training and testing sets (80-20 split). A RandomForestClassifier is created with 100 trees and trained on the training data. The model predicts outcomes for the test set, and its performance is evaluated using metrics like accuracy, confusion matrix, recall, and precision. The confusion matrix is also visualized for better understanding.**"
   ]
  },
  {
   "cell_type": "code",
   "execution_count": 77,
   "id": "a3b65110-9834-4dc2-8c7f-84ae450ff83a",
   "metadata": {
    "scrolled": true
   },
   "outputs": [
    {
     "name": "stdout",
     "output_type": "stream",
     "text": [
      "Confusion Matrix:\n",
      "[[78  9]\n",
      " [20 10]]\n",
      "Random Forest Accuracy: 0.75\n",
      "\n",
      "Classification Report:\n",
      "              precision    recall  f1-score   support\n",
      "\n",
      "           1       0.80      0.90      0.84        87\n",
      "           2       0.53      0.33      0.41        30\n",
      "\n",
      "    accuracy                           0.75       117\n",
      "   macro avg       0.66      0.61      0.63       117\n",
      "weighted avg       0.73      0.75      0.73       117\n",
      "\n"
     ]
    }
   ],
   "source": [
    "# Initialize and train the Random Forest model\n",
    "rf = RandomForestClassifier(bootstrap=True, n_estimators=100, criterion='entropy', random_state=42)\n",
    "rf.fit(X_train, y_train)\n",
    "\n",
    "# Predict using the model\n",
    "y_predict_rf = rf.predict(X_test)\n",
    "\n",
    "# Confusion matrix\n",
    "cnf_matrix = confusion_matrix(y_test, y_predict_rf)\n",
    "print(\"Confusion Matrix:\")\n",
    "print(cnf_matrix)\n",
    "\n",
    "# Accuracy score\n",
    "Accuracy_rf = accuracy_score(y_test, y_predict_rf)\n",
    "print(f\"Random Forest Accuracy: {Accuracy_rf:.2f}\")\n",
    "\n",
    "# Classification report\n",
    "print(\"\\nClassification Report:\")\n",
    "print(classification_report(y_test, y_predict_rf))\n"
   ]
  },
  {
   "cell_type": "code",
   "execution_count": 79,
   "id": "860cb7bb-3a46-4b57-8743-7ad4c2110bb6",
   "metadata": {},
   "outputs": [
    {
     "data": {
      "text/plain": [
       "<Axes: >"
      ]
     },
     "execution_count": 79,
     "metadata": {},
     "output_type": "execute_result"
    },
    {
     "data": {
      "image/png": "[encoded data removed]",
      "text/plain": [
       "<Figure size 640x480 with 1 Axes>"
      ]
     },
     "metadata": {},
     "output_type": "display_data"
    }
   ],
   "source": [
    "X_train, X_test, y_train, y_test = train_test_split(X, y, test_size = 0.2, random_state = 1)\n",
    "y_train.hist()"
   ]
  },
  {
   "cell_type": "code",
   "execution_count": 81,
   "id": "e822bfe5-a460-4824-b23a-017f17845eb2",
   "metadata": {},
   "outputs": [
    {
     "data": {
      "image/png": "[encoded data removed]",
      "text/plain": [
       "<Figure size 640x480 with 2 Axes>"
      ]
     },
     "metadata": {},
     "output_type": "display_data"
    }
   ],
   "source": [
    "cm = confusion_matrix(y_test, y_predict_rf)\n",
    "\n",
    "disp = ConfusionMatrixDisplay(confusion_matrix=cm,\n",
    "                              display_labels=rf.classes_)\n",
    "disp.plot()\n",
    "plt.show()"
   ]
  },
  {
   "cell_type": "code",
   "execution_count": 83,
   "id": "5eb3241c-9157-416b-be27-b9fe49a080b5",
   "metadata": {},
   "outputs": [
    {
     "data": {
      "text/plain": [
       "0.8313253012048193"
      ]
     },
     "execution_count": 83,
     "metadata": {},
     "output_type": "execute_result"
    }
   ],
   "source": [
    "recall_score(y_test, y_predict_rf)"
   ]
  },
  {
   "cell_type": "code",
   "execution_count": 85,
   "id": "9c1bf71d-45f4-4362-a98b-4def5f3d42ee",
   "metadata": {},
   "outputs": [
    {
     "data": {
      "text/plain": [
       "0.7040816326530612"
      ]
     },
     "execution_count": 85,
     "metadata": {},
     "output_type": "execute_result"
    }
   ],
   "source": [
    "precision_score(y_test, y_predict_rf)"
   ]
  },
  {
   "cell_type": "markdown",
   "id": "e2214a0a-63b3-4e9d-b8a8-10a399acbb21",
   "metadata": {},
   "source": [
    "**The model performs well for class 1, with high precision (0.80) and recall (0.90), but struggles with class 2, showing lower precision (0.53) and recall (0.33). This imbalance suggests the model is better at predicting the majority class. While the overall accuracy is 75%, improvements are needed to handle the minority class more effectively.**"
   ]
  },
  {
   "cell_type": "code",
   "execution_count": 154,
   "id": "0232f2f5-e71e-491a-8482-103ac680d146",
   "metadata": {},
   "outputs": [],
   "source": [
    "data = data.rename(columns={'Gender_Male': 'Gender'})"
   ]
  },
  {
   "cell_type": "code",
   "execution_count": null,
   "id": "26f4e45b-8f25-4477-a1a4-54076b700ebf",
   "metadata": {},
   "outputs": [],
   "source": []
  },
  {
   "cell_type": "code",
   "execution_count": null,
   "id": "82bcce43-47a1-44e2-bdd7-290ad2af530c",
   "metadata": {},
   "outputs": [],
   "source": []
  },
  {
   "cell_type": "code",
   "execution_count": 158,
   "id": "8927e51c-3ad2-477e-abf6-a6e223bfcb6e",
   "metadata": {},
   "outputs": [],
   "source": [
    "data.columns = data.columns.str.strip()  # Strip any extra spaces"
   ]
  },
  {
   "cell_type": "code",
   "execution_count": 160,
   "id": "356677ea-556b-4545-b722-667582e15548",
   "metadata": {},
   "outputs": [
    {
     "name": "stdout",
     "output_type": "stream",
     "text": [
      "Index(['Age', 'Total_Bilirubin', 'Direct_Bilirubin', 'Alkaline_Phosphotase',\n",
      "       'Alamine_Aminotransferase', 'Aspartate_Aminotransferase',\n",
      "       'Total_Protiens', 'Albumin', 'Albumin_and_Globulin_Ratio', 'Gender'],\n",
      "      dtype='object')\n"
     ]
    }
   ],
   "source": [
    "print(data.columns)"
   ]
  },
  {
   "cell_type": "markdown",
   "id": "7c32ee8b-0308-48dc-84ac-7f95b62b9c9d",
   "metadata": {},
   "source": [
    "**A logistic regression model is initialized and trained on the training data. Predictions are made using the trained model on the test set, and the model's performance is evaluated through accuracy, confusion matrix, classification report, and ROC-AUC score, with an optional ROC curve visualization to analyze the trade-off between true positive and false positive rates.**"
   ]
  },
  {
   "cell_type": "code",
   "execution_count": 192,
   "id": "3de2ce76-5724-46a1-add1-2d67e7bc5dc9",
   "metadata": {},
   "outputs": [
    {
     "name": "stdout",
     "output_type": "stream",
     "text": [
      "Accuracy: 0.76\n",
      "\n",
      "Confusion Matrix:\n",
      "[[86  0]\n",
      " [28  1]]\n",
      "\n",
      "Classification Report:\n",
      "              precision    recall  f1-score   support\n",
      "\n",
      "           1       0.75      1.00      0.86        86\n",
      "           2       1.00      0.03      0.07        29\n",
      "\n",
      "    accuracy                           0.76       115\n",
      "   macro avg       0.88      0.52      0.46       115\n",
      "weighted avg       0.82      0.76      0.66       115\n",
      "\n",
      "ROC-AUC Score: 0.76\n"
     ]
    }
   ],
   "source": [
    "# Drop rows with NaN values from both X and y\n",
    "X_train, y_train = X_train.dropna(), y_train[X_train.dropna().index]\n",
    "X_test, y_test = X_test.dropna(), y_test[X_test.dropna().index]\n",
    "\n",
    "# Initialize Logistic Regression\n",
    "log_reg = LogisticRegression(max_iter=500, random_state=42)\n",
    "\n",
    "# Train the model\n",
    "log_reg.fit(X_train, y_train)\n",
    "\n",
    "# Make predictions\n",
    "y_pred = log_reg.predict(X_test)\n",
    "\n",
    "# Evaluate the model\n",
    "accuracy = accuracy_score(y_test, y_pred)\n",
    "print(f\"Accuracy: {accuracy:.2f}\")\n",
    "print(\"\\nConfusion Matrix:\")\n",
    "print(confusion_matrix(y_test, y_pred))\n",
    "print(\"\\nClassification Report:\")\n",
    "print(classification_report(y_test, y_pred))\n",
    "\n",
    "# Convert y_test and predictions to binary\n",
    "y_test_binary = (y_test == 2).astype(int)\n",
    "y_pred_prob_binary = log_reg.predict_proba(X_test)[:, 1]\n",
    "\n",
    "# ROC-AUC Score and Curve\n",
    "y_pred_prob = log_reg.predict_proba(X_test)[:, 1]\n",
    "roc_auc = roc_auc_score(y_test, y_pred_prob)\n",
    "print(f\"ROC-AUC Score: {roc_auc:.2f}\")"
   ]
  },
  {
   "cell_type": "code",
   "execution_count": 172,
   "id": "457a16bf-b1ae-411d-8218-52716e3df485",
   "metadata": {},
   "outputs": [
    {
     "name": "stdout",
     "output_type": "stream",
     "text": [
      "Index(['Age', 'Total_Bilirubin', 'Direct_Bilirubin', 'Alkaline_Phosphotase',\n",
      "       'Alamine_Aminotransferase', 'Aspartate_Aminotransferase',\n",
      "       'Total_Protiens', 'Albumin', 'Albumin_and_Globulin_Ratio', 'Gender'],\n",
      "      dtype='object')\n"
     ]
    }
   ],
   "source": [
    "# Print column names\n",
    "print(data.columns)\n",
    "\n",
    "#'Gender_Male', rename it to 'Gender'\n",
    "data = data.rename(columns={'Gender_Male': 'Gender'})  # Adjust according to actual column name\n",
    "\n",
    "# Handle missing values and encode 'Gender'\n",
    "data['Gender'] = data['Gender'].map({'Male': 0, 'Female': 1})\n"
   ]
  },
  {
   "cell_type": "code",
   "execution_count": 194,
   "id": "29636958-2b42-4f07-a705-c246fce429b8",
   "metadata": {},
   "outputs": [
    {
     "name": "stdout",
     "output_type": "stream",
     "text": [
      "Accuracy: 0.7565217391304347\n"
     ]
    }
   ],
   "source": [
    "# Train the model\n",
    "lr_clf = LogisticRegression(penalty='l2', C=1, solver='saga')\n",
    "lr_clf.fit(X_train, y_train)\n",
    "\n",
    "# Make predictions\n",
    "y_pred = lr_clf.predict(X_test)\n",
    "\n",
    "# Evaluate the model\n",
    "print(f\"Accuracy: {accuracy_score(y_test, y_pred)}\")"
   ]
  },
  {
   "cell_type": "code",
   "execution_count": 201,
   "id": "26474a44-1315-4adb-8697-4f8b991e6518",
   "metadata": {},
   "outputs": [
    {
     "data": {
      "image/png": "[encoded data removed]",
      "text/plain": [
       "<Figure size 640x480 with 1 Axes>"
      ]
     },
     "metadata": {},
     "output_type": "display_data"
    }
   ],
   "source": [
    "# Convert y_test and predictions to binary\n",
    "y_test_binary = (y_test == 2).astype(int)\n",
    "y_pred_prob_binary = log_reg.predict_proba(X_test)[:, 1]\n",
    "\n",
    "# Calculate ROC curve\n",
    "fpr, tpr, thresholds = roc_curve(y_test_binary, y_pred_prob_binary)\n",
    "\n",
    "# Plot ROC curve\n",
    "plt.plot(fpr, tpr, label=f'ROC Curve (AUC = {roc_auc:.2f})')\n",
    "plt.xlabel('False Positive Rate')\n",
    "plt.ylabel('True Positive Rate')\n",
    "plt.title('ROC Curve')\n",
    "plt.legend()\n",
    "plt.show()"
   ]
  },
  {
   "cell_type": "markdown",
   "id": "c90d41ac-75bf-4fc2-93ff-63f891a9fc2d",
   "metadata": {},
   "source": [
    "**A high accuracy and ROC-AUC score indicate good model fit, while the confusion matrix and classification report help identify areas for improvement, such as false positives or negatives. The ROC curve offers a visual representation of the trade-offs between the true positive rate and false positive rate.**"
   ]
  },
  {
   "cell_type": "markdown",
   "id": "ae9cd20d-891e-477b-a748-d0fe09838026",
   "metadata": {},
   "source": [
    "**Final Decision: While both models have very similar outcomes the logistic regression model is 0.01 more accurate than the random forest model.**"
   ]
  }
 ],
 "metadata": {
  "kernelspec": {
   "display_name": "Python 3 (ipykernel)",
   "language": "python",
   "name": "python3"
  },
  "language_info": {
   "codemirror_mode": {
    "name": "ipython",
    "version": 3
   },
   "file_extension": ".py",
   "mimetype": "text/x-python",
   "name": "python",
   "nbconvert_exporter": "python",
   "pygments_lexer": "ipython3",
   "version": "3.12.7"
  }
 },
 "nbformat": 4,
 "nbformat_minor": 5
}
